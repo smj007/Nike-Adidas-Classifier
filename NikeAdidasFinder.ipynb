{
 "cells": [
  {
   "cell_type": "code",
   "execution_count": 1,
   "metadata": {},
   "outputs": [],
   "source": [
    "from PIL import Image\n",
    "import os\n",
    "import numpy as np\n",
    "import pandas as pd\n",
    "from random import shuffle\n",
    "import matplotlib.pyplot as plt\n",
    "from tqdm import tqdm"
   ]
  },
  {
   "cell_type": "code",
   "execution_count": 2,
   "metadata": {},
   "outputs": [],
   "source": [
    "train_dir = './TRAIN'\n",
    "test_dir = './TEST'\n",
    "size = 120\n",
    "lr = 1e-3 "
   ]
  },
  {
   "cell_type": "code",
   "execution_count": 3,
   "metadata": {},
   "outputs": [],
   "source": [
    "def label_img(img):\n",
    "    word_label = img.split('_')[0] #gets the name of the brand\n",
    "    if word_label == 'NIKE':\n",
    "        return [1,0]\n",
    "    \n",
    "    elif word_label == 'ADIDAS':\n",
    "        return [0,1]"
   ]
  },
  {
   "cell_type": "code",
   "execution_count": 4,
   "metadata": {},
   "outputs": [],
   "source": [
    "def create_train_data():\n",
    "    train_dataset = []\n",
    "    for image in tqdm(os.listdir(train_dir)):\n",
    "        label = label_img(image)\n",
    "        path = os.path.join(train_dir, image)\n",
    "        image = Image.open(path)\n",
    "        \n",
    "        #Grayscale conversion using PIL - channel L is for single channel\n",
    "        #channel P is for mode or palettized\n",
    "        image = image.convert('L')\n",
    "        image = image.resize((size, size), Image.ANTIALIAS) #using this lib instead of cv2\n",
    "        #eqvt of cv2 is cv2.cvtColor and cv2.resize( ,(bicubic, NN interpolation arg, etc)) \n",
    "        \n",
    "        train_dataset.append([np.array(image), np.array(label)])\n",
    "        \n",
    "    shuffle(train_dataset)\n",
    "    np.save('train_data.npy', train_dataset)\n",
    "    return train_dataset\n",
    "    "
   ]
  },
  {
   "cell_type": "code",
   "execution_count": 5,
   "metadata": {},
   "outputs": [],
   "source": [
    "def process_test_data():\n",
    "    test_dataset = []\n",
    "    for image in tqdm(os.listdir(test_dir)):\n",
    "        path = os.path.join(test_dir, image)\n",
    "        if \"DS_Store\" not in path:\n",
    "            image_idx = image.split('_')[1] #images are like NIKE_7 etc\n",
    "            image = Image.open(path)\n",
    "            image = image.convert('L')\n",
    "            image = image.resize((size, size), Image.ANTIALIAS)\n",
    "            \n",
    "            test_dataset.append([np.array(image), np.array(image_idx)])\n",
    "            \n",
    "    shuffle(test_dataset)    \n",
    "    np.save('test_data.npy', test_dataset)\n",
    "    return test_dataset    "
   ]
  },
  {
   "cell_type": "code",
   "execution_count": 6,
   "metadata": {},
   "outputs": [
    {
     "name": "stderr",
     "output_type": "stream",
     "text": [
      "100%|██████████| 100/100 [00:00<00:00, 409.75it/s]\n"
     ]
    },
    {
     "name": "stdout",
     "output_type": "stream",
     "text": [
      "[1 0]\n"
     ]
    },
    {
     "data": {
      "image/png": "[encoded data removed]",
      "text/plain": [
       "<Figure size 432x288 with 1 Axes>"
      ]
     },
     "metadata": {
      "needs_background": "light"
     },
     "output_type": "display_data"
    }
   ],
   "source": [
    "train_dataset = create_train_data()\n",
    "plt.imshow(train_dataset[43][0], cmap = 'gray')\n",
    "print(train_dataset[43][1])    "
   ]
  },
  {
   "cell_type": "code",
   "execution_count": 9,
   "metadata": {},
   "outputs": [],
   "source": [
    "#using tflearn instead of tensorflow/keras\n",
    "\n",
    "import tensorflow as tf\n",
    "import keras\n",
    "from tensorflow.keras import layers\n",
    "from keras.models import Model, Sequential\n",
    "from keras.layers import Conv2D, MaxPool2D, Dropout, Dense, Input\n"
   ]
  },
  {
   "cell_type": "code",
   "execution_count": null,
   "metadata": {},
   "outputs": [],
   "source": [
    "num_classes = 2\n",
    "\n",
    "model = Sequential([\n",
    "  layers.experimental.preprocessing.Rescaling(1./255, input_shape=(size, size, 3)),\n",
    "  layers.Conv2D(16, 3, padding='same', activation='relu'),\n",
    "  layers.MaxPooling2D(),\n",
    "  layers.Conv2D(32, 3, padding='same', activation='relu'),\n",
    "  layers.MaxPooling2D(),\n",
    "  layers.Conv2D(64, 3, padding='same', activation='relu'),\n",
    "  layers.MaxPooling2D(),\n",
    "  layers.Flatten(),\n",
    "  layers.Dense(128, activation='relu'),\n",
    "  layers.Dense(num_classes)\n",
    "])\n"
   ]
  },
  {
   "cell_type": "code",
   "execution_count": null,
   "metadata": {},
   "outputs": [],
   "source": [
    "# inp = Input(shape=[size, size, 1], name = 'input')\n",
    "# convnet = Conv2D(32, 5, activation = 'relu')(inp)\n",
    "# convnet = MaxPool2D((5, 5))(convnet)\n",
    "# convnet = Conv2D(64, 5, activation = 'relu')(convnet)\n",
    "# convnet = MaxPool2D((5, 5))(convnet)\n",
    "# convnet = Conv2D(convnet, 32, 5, activation = 'relu')(convnet)\n",
    "# convnet = MaxPool2D((5, 5))(convnet)\n",
    "# convnet = Conv2D(convnet, 64, 5, activation = 'relu')(convnet)\n",
    "# convnet = MaxPool2D((5, 5))(convnet)\n",
    "# convnet = Conv2D(convnet, 32, 5, activation = 'relu')(convnet)\n",
    "# convnet = MaxPool2D((5, 5))(convnet)\n",
    "# convnet = Conv2D(convnet, 64, 5, activation = 'relu')(convnet)\n",
    "# convnet = MaxPool2D((5, 5))(convnet)\n",
    "# convnet = Dense(1024, activation = 'relu')(convnet)\n",
    "# convnet = Dropout(0.8)(convnet)\n",
    "# out = Dense(2, activation = 'softmax')(convnet)\n",
    "\n",
    "# model = Model(inputs = inp, outputs = out)"
   ]
  },
  {
   "cell_type": "code",
   "execution_count": null,
   "metadata": {},
   "outputs": [],
   "source": []
  }
 ],
 "metadata": {
  "kernelspec": {
   "display_name": "Python 3",
   "language": "python",
   "name": "python3"
  },
  "language_info": {
   "codemirror_mode": {
    "name": "ipython",
    "version": 3
   },
   "file_extension": ".py",
   "mimetype": "text/x-python",
   "name": "python",
   "nbconvert_exporter": "python",
   "pygments_lexer": "ipython3",
   "version": "3.7.7"
  }
 },
 "nbformat": 4,
 "nbformat_minor": 4
}
